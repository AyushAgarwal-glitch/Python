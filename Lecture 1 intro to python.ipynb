{
 "cells": [
  {
   "cell_type": "code",
   "execution_count": 1,
   "id": "fb023a40",
   "metadata": {},
   "outputs": [
    {
     "name": "stdout",
     "output_type": "stream",
     "text": [
      "hello World\n"
     ]
    }
   ],
   "source": [
    "print(\"hello World\")"
   ]
  },
  {
   "cell_type": "code",
   "execution_count": 2,
   "id": "fd77a7c5",
   "metadata": {},
   "outputs": [
    {
     "name": "stdout",
     "output_type": "stream",
     "text": [
      "Ayush Agarwal\n"
     ]
    }
   ],
   "source": [
    "print(\"Ayush Agarwal\")"
   ]
  },
  {
   "cell_type": "code",
   "execution_count": 3,
   "id": "32bacb56",
   "metadata": {},
   "outputs": [
    {
     "ename": "NameError",
     "evalue": "name 'Print' is not defined",
     "output_type": "error",
     "traceback": [
      "\u001b[1;31m---------------------------------------------------------------------------\u001b[0m",
      "\u001b[1;31mNameError\u001b[0m                                 Traceback (most recent call last)",
      "\u001b[1;32m~\\AppData\\Local\\Temp\\ipykernel_18656\\3125447192.py\u001b[0m in \u001b[0;36m<module>\u001b[1;34m\u001b[0m\n\u001b[1;32m----> 1\u001b[1;33m \u001b[0mPrint\u001b[0m\u001b[1;33m(\u001b[0m\u001b[1;34m\"Ayush\"\u001b[0m\u001b[1;33m)\u001b[0m\u001b[1;33m\u001b[0m\u001b[1;33m\u001b[0m\u001b[0m\n\u001b[0m",
      "\u001b[1;31mNameError\u001b[0m: name 'Print' is not defined"
     ]
    }
   ],
   "source": [
    "Print(\"Ayush\")"
   ]
  },
  {
   "cell_type": "markdown",
   "id": "631b9bde",
   "metadata": {},
   "source": [
    "### Python is case sensitive"
   ]
  },
  {
   "cell_type": "markdown",
   "id": "aab11bfd",
   "metadata": {},
   "source": [
    "#### Python is case sensitive"
   ]
  },
  {
   "cell_type": "markdown",
   "id": "b51cd206",
   "metadata": {},
   "source": [
    "##### python"
   ]
  },
  {
   "cell_type": "markdown",
   "id": "de928a28",
   "metadata": {},
   "source": [
    "## python"
   ]
  },
  {
   "cell_type": "code",
   "execution_count": 5,
   "id": "80a6c86a",
   "metadata": {},
   "outputs": [
    {
     "ename": "NameError",
     "evalue": "name 'ayush' is not defined",
     "output_type": "error",
     "traceback": [
      "\u001b[1;31m---------------------------------------------------------------------------\u001b[0m",
      "\u001b[1;31mNameError\u001b[0m                                 Traceback (most recent call last)",
      "\u001b[1;32m~\\AppData\\Local\\Temp\\ipykernel_18656\\99431657.py\u001b[0m in \u001b[0;36m<module>\u001b[1;34m\u001b[0m\n\u001b[1;32m----> 1\u001b[1;33m \u001b[0mprint\u001b[0m\u001b[1;33m(\u001b[0m\u001b[0mayush\u001b[0m\u001b[1;33m)\u001b[0m\u001b[1;33m\u001b[0m\u001b[1;33m\u001b[0m\u001b[0m\n\u001b[0m",
      "\u001b[1;31mNameError\u001b[0m: name 'ayush' is not defined"
     ]
    }
   ],
   "source": [
    "print(ayush)"
   ]
  },
  {
   "cell_type": "markdown",
   "id": "bbfdb8bb",
   "metadata": {},
   "source": [
    "### strings should be in inverted commas"
   ]
  },
  {
   "cell_type": "code",
   "execution_count": 6,
   "id": "30919097",
   "metadata": {},
   "outputs": [
    {
     "name": "stdout",
     "output_type": "stream",
     "text": [
      "10\n"
     ]
    }
   ],
   "source": [
    "print(10)"
   ]
  },
  {
   "cell_type": "code",
   "execution_count": 7,
   "id": "a7b11336",
   "metadata": {},
   "outputs": [
    {
     "name": "stdout",
     "output_type": "stream",
     "text": [
      "ayush\n"
     ]
    }
   ],
   "source": [
    "print('ayush')"
   ]
  },
  {
   "cell_type": "markdown",
   "id": "4942553c",
   "metadata": {},
   "source": [
    "### Shortcut keys"
   ]
  },
  {
   "cell_type": "code",
   "execution_count": 8,
   "id": "d5ffac49",
   "metadata": {},
   "outputs": [
    {
     "name": "stdout",
     "output_type": "stream",
     "text": [
      "1\n"
     ]
    }
   ],
   "source": [
    "print(1)"
   ]
  },
  {
   "cell_type": "markdown",
   "id": "96a431cb",
   "metadata": {},
   "source": [
    "##### Run -> Shift + Enter\n",
    "##### Add a cell above -> a\n",
    "##### Add a cell below -> b\n",
    "##### Delete a cell -> x"
   ]
  },
  {
   "cell_type": "code",
   "execution_count": 9,
   "id": "5e4702d3",
   "metadata": {},
   "outputs": [
    {
     "data": {
      "text/plain": [
       "int"
      ]
     },
     "execution_count": 9,
     "metadata": {},
     "output_type": "execute_result"
    }
   ],
   "source": [
    "x=10\n",
    "type(x)"
   ]
  },
  {
   "cell_type": "code",
   "execution_count": 10,
   "id": "957d6395",
   "metadata": {},
   "outputs": [
    {
     "data": {
      "text/plain": [
       "float"
      ]
     },
     "execution_count": 10,
     "metadata": {},
     "output_type": "execute_result"
    }
   ],
   "source": [
    "x= 10.5\n",
    "type(x)"
   ]
  },
  {
   "cell_type": "code",
   "execution_count": 12,
   "id": "258811cf",
   "metadata": {},
   "outputs": [
    {
     "data": {
      "text/plain": [
       "str"
      ]
     },
     "execution_count": 12,
     "metadata": {},
     "output_type": "execute_result"
    }
   ],
   "source": [
    "course = \"data science\"\n",
    "type(course)"
   ]
  },
  {
   "cell_type": "code",
   "execution_count": 13,
   "id": "fec0c68a",
   "metadata": {},
   "outputs": [
    {
     "data": {
      "text/plain": [
       "str"
      ]
     },
     "execution_count": 13,
     "metadata": {},
     "output_type": "execute_result"
    }
   ],
   "source": [
    "course = 'data science'\n",
    "type(course)"
   ]
  },
  {
   "cell_type": "code",
   "execution_count": 14,
   "id": "f000a0ee",
   "metadata": {},
   "outputs": [
    {
     "data": {
      "text/plain": [
       "str"
      ]
     },
     "execution_count": 14,
     "metadata": {},
     "output_type": "execute_result"
    }
   ],
   "source": [
    "a = 'a'\n",
    "type(a)"
   ]
  },
  {
   "cell_type": "markdown",
   "id": "dc6cde6d",
   "metadata": {},
   "source": [
    "## Variables"
   ]
  },
  {
   "cell_type": "code",
   "execution_count": 15,
   "id": "e84656d9",
   "metadata": {},
   "outputs": [
    {
     "data": {
      "text/plain": [
       "('DS', 'ML', 'AI')"
      ]
     },
     "execution_count": 15,
     "metadata": {},
     "output_type": "execute_result"
    }
   ],
   "source": [
    "courses = \"DS\",\"ML\",\"AI\"\n",
    "courses"
   ]
  },
  {
   "cell_type": "code",
   "execution_count": 16,
   "id": "f3b990aa",
   "metadata": {},
   "outputs": [
    {
     "data": {
      "text/plain": [
       "('D S', 'ML', 'AI')"
      ]
     },
     "execution_count": 16,
     "metadata": {},
     "output_type": "execute_result"
    }
   ],
   "source": [
    "courses = \"D S\",\"ML\",\"AI\"\n",
    "courses"
   ]
  },
  {
   "cell_type": "code",
   "execution_count": 17,
   "id": "012473b7",
   "metadata": {},
   "outputs": [
    {
     "data": {
      "text/plain": [
       "('DS ', 'ML', 'AI')"
      ]
     },
     "execution_count": 17,
     "metadata": {},
     "output_type": "execute_result"
    }
   ],
   "source": [
    "courses = \"DS \",\"ML\",\"AI\"\n",
    "courses"
   ]
  },
  {
   "cell_type": "code",
   "execution_count": 18,
   "id": "bd4ea3bf",
   "metadata": {},
   "outputs": [
    {
     "data": {
      "text/plain": [
       "(' DS', 'ML', 'AI')"
      ]
     },
     "execution_count": 18,
     "metadata": {},
     "output_type": "execute_result"
    }
   ],
   "source": [
    "courses = \" DS\",\"ML\",\"AI\"\n",
    "courses"
   ]
  },
  {
   "cell_type": "markdown",
   "id": "8d07265c",
   "metadata": {},
   "source": [
    "##### variable name cant start with a number\n",
    "##### the only special character allowed is underscore\n",
    "##### variable names should start with 'A-Z','a-z'"
   ]
  },
  {
   "cell_type": "code",
   "execution_count": null,
   "id": "fc1e18d4",
   "metadata": {},
   "outputs": [],
   "source": []
  }
 ],
 "metadata": {
  "kernelspec": {
   "display_name": "Python 3 (ipykernel)",
   "language": "python",
   "name": "python3"
  },
  "language_info": {
   "codemirror_mode": {
    "name": "ipython",
    "version": 3
   },
   "file_extension": ".py",
   "mimetype": "text/x-python",
   "name": "python",
   "nbconvert_exporter": "python",
   "pygments_lexer": "ipython3",
   "version": "3.9.13"
  }
 },
 "nbformat": 4,
 "nbformat_minor": 5
}
